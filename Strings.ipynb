{
 "cells": [
  {
   "cell_type": "markdown",
   "metadata": {},
   "source": [
    "# Strings\n",
    "\n",
    "- collection of characters\n",
    "- single line string ins enclosed with '' or \"\"\n",
    "- multiple line string ins enclosed with ''' ''' or \"\"\" \"\"\"\n",
    "- str() to typecast"
   ]
  },
  {
   "cell_type": "code",
   "execution_count": 7,
   "metadata": {},
   "outputs": [
    {
     "name": "stdout",
     "output_type": "stream",
     "text": [
      "<class 'str'>\n",
      "s dncveiuocn enb vdlnewnbcvqwdkjw fbfmewb \n"
     ]
    }
   ],
   "source": [
    "s = \"s dncveiuocn enb vdlnewnbcvqwdkjw fbfmewb \"\n",
    "print( type(s))\n",
    "print( s )\n",
    "\n"
   ]
  },
  {
   "cell_type": "code",
   "execution_count": 8,
   "metadata": {},
   "outputs": [
    {
     "name": "stdout",
     "output_type": "stream",
     "text": [
      "<class 'str'>\n",
      "\n",
      "s dncveiuocn enb vdlnewnbcvqwdkjw fbfmewb \n",
      "dscvbnc qn n nkbn nk \n",
      "                    kne ekc kwnv wel kr\n",
      "                                   \n",
      "      dbvvebcjnmwc\n",
      "      \n",
      "\n"
     ]
    }
   ],
   "source": [
    "s = '''\n",
    "s dncveiuocn enb vdlnewnbcvqwdkjw fbfmewb \n",
    "dscvbnc qn n nkbn nk \n",
    "                    kne ekc kwnv wel kr\n",
    "                                   \n",
    "      dbvvebcjnmwc\n",
    "      \n",
    "'''\n",
    "print( type(s))\n",
    "print( s )\n",
    "\n"
   ]
  },
  {
   "cell_type": "markdown",
   "metadata": {},
   "source": [
    "## basic Operations"
   ]
  },
  {
   "cell_type": "code",
   "execution_count": 11,
   "metadata": {},
   "outputs": [
    {
     "name": "stdout",
     "output_type": "stream",
     "text": [
      " python  \n",
      "9\n"
     ]
    }
   ],
   "source": [
    "# 1. Len : Return total chars\n",
    "\n",
    "s = \" python  \"\n",
    "print(s)\n",
    "print(len(s))"
   ]
  },
  {
   "cell_type": "code",
   "execution_count": 18,
   "metadata": {},
   "outputs": [
    {
     "name": "stdout",
     "output_type": "stream",
     "text": [
      "python\n",
      "Length =  6\n",
      "p\n",
      "h\n",
      "n\n",
      "n\n",
      "n\n"
     ]
    }
   ],
   "source": [
    "# 2. Indexing\n",
    "# - reading a character at specified Position\n",
    "# - discrete number\n",
    "# stringName[position]\n",
    "\n",
    "s = \"python\"\n",
    "print(s)\n",
    "\n",
    "print(\"Length = \", len(s))\n",
    "\n",
    "# read 1st char\n",
    "print(s[0]  )\n",
    "\n",
    "# didplay h\n",
    "print(s[3]  )\n",
    "\n",
    "\n"
   ]
  },
  {
   "attachments": {
    "image.png": {
     "image/png": "[encoded data removed]"
    }
   },
   "cell_type": "markdown",
   "metadata": {},
   "source": [
    "![image.png](attachment:image.png)"
   ]
  },
  {
   "cell_type": "code",
   "execution_count": 19,
   "metadata": {},
   "outputs": [
    {
     "name": "stdout",
     "output_type": "stream",
     "text": [
      "n\n",
      "n\n",
      "n\n"
     ]
    }
   ],
   "source": [
    "# display last character\n",
    "print(s[ len(s) - 1 ]  )\n",
    "print(s[ 5 ]  )\n",
    "print(s[ -1 ]  )\n"
   ]
  },
  {
   "cell_type": "code",
   "execution_count": 20,
   "metadata": {},
   "outputs": [
    {
     "name": "stdout",
     "output_type": "stream",
     "text": [
      "t\n",
      "t\n"
     ]
    }
   ],
   "source": [
    "# display \"t\"\n",
    "print( s[2] )\n",
    "print( s[-4] )\n",
    "\n"
   ]
  },
  {
   "cell_type": "code",
   "execution_count": null,
   "metadata": {},
   "outputs": [],
   "source": [
    "# 3. Slicing\n",
    "# - read multiple chars\n",
    "# stringName[ start : end : stepsize ]\n",
    "\n",
    "# start (default is 0)\n",
    "# end is EXCLUSIVE ( < ) (default is LENGTH)\n",
    "# stepsize (default value is 1)"
   ]
  },
  {
   "cell_type": "code",
   "execution_count": 22,
   "metadata": {},
   "outputs": [
    {
     "name": "stdout",
     "output_type": "stream",
     "text": [
      "pyt\n"
     ]
    }
   ],
   "source": [
    "a = \"python program\"\n",
    "\n",
    "# read first 3 characs\n",
    "print( a[0 : 3] ) # pyt # 0 1 2\n"
   ]
  },
  {
   "cell_type": "code",
   "execution_count": 24,
   "metadata": {},
   "outputs": [
    {
     "name": "stdout",
     "output_type": "stream",
     "text": [
      "on pro\n"
     ]
    }
   ],
   "source": [
    "a = \"python program\"\n",
    "\n",
    "# \"on pro\"\n",
    "print( a[ 4 : 10] )\n"
   ]
  },
  {
   "cell_type": "code",
   "execution_count": 26,
   "metadata": {},
   "outputs": [
    {
     "name": "stdout",
     "output_type": "stream",
     "text": [
      "python pro\n",
      "python pro\n"
     ]
    }
   ],
   "source": [
    "a = \"python program\"\n",
    "\n",
    "print( a[ 0 : 10] ) # 0, 0 + 1, 0+  1 + 1, 0 + 1 + 1+ 1, ... 9 \n",
    "print( a[ 0 : 10 : 1] )"
   ]
  },
  {
   "cell_type": "code",
   "execution_count": 28,
   "metadata": {},
   "outputs": [
    {
     "name": "stdout",
     "output_type": "stream",
     "text": [
      "14\n"
     ]
    }
   ],
   "source": [
    "a \n",
    "print(len(a))"
   ]
  },
  {
   "cell_type": "code",
   "execution_count": 29,
   "metadata": {},
   "outputs": [
    {
     "name": "stdout",
     "output_type": "stream",
     "text": [
      "pto rga\n"
     ]
    }
   ],
   "source": [
    "print( a[ 0 : len(a) : 2] ) # Even Positions  # 0 2 4 6 8 10 12"
   ]
  },
  {
   "cell_type": "code",
   "execution_count": 30,
   "metadata": {},
   "outputs": [
    {
     "name": "stdout",
     "output_type": "stream",
     "text": [
      "python program\n"
     ]
    }
   ],
   "source": [
    "print( a[ 0 : len(a) : 1] )  # 0, 1, 1 + stepsize ..... "
   ]
  },
  {
   "cell_type": "code",
   "execution_count": 31,
   "metadata": {},
   "outputs": [
    {
     "name": "stdout",
     "output_type": "stream",
     "text": [
      "python\n"
     ]
    }
   ],
   "source": [
    "print( a[ 0 : 6 : 1] ) # 0 1 2 3 4 5"
   ]
  },
  {
   "cell_type": "code",
   "execution_count": 40,
   "metadata": {},
   "outputs": [
    {
     "name": "stdout",
     "output_type": "stream",
     "text": [
      "python program\n",
      "python program\n",
      "python program\n",
      "python program\n",
      "python program\n"
     ]
    }
   ],
   "source": [
    "a = \"python program\"\n",
    "\n",
    "print( a[ 0 : len(a) : 1] )\n",
    "print( a[ 0 : len(a) ] )\n",
    "print( a[ 0 : len(a) : ] )\n",
    "print( a[  : len(a) : ] )\n",
    "print( a[  :  : ] )"
   ]
  },
  {
   "cell_type": "code",
   "execution_count": null,
   "metadata": {},
   "outputs": [],
   "source": []
  },
  {
   "cell_type": "code",
   "execution_count": 34,
   "metadata": {},
   "outputs": [
    {
     "data": {
      "text/plain": [
       "'m'"
      ]
     },
     "execution_count": 34,
     "metadata": {},
     "output_type": "execute_result"
    }
   ],
   "source": [
    "a[13]"
   ]
  },
  {
   "cell_type": "code",
   "execution_count": 33,
   "metadata": {},
   "outputs": [
    {
     "data": {
      "text/plain": [
       "14"
      ]
     },
     "execution_count": 33,
     "metadata": {},
     "output_type": "execute_result"
    }
   ],
   "source": [
    "len(a)"
   ]
  },
  {
   "cell_type": "code",
   "execution_count": 45,
   "metadata": {},
   "outputs": [
    {
     "name": "stdout",
     "output_type": "stream",
     "text": [
      "5533\n"
     ]
    }
   ],
   "source": [
    "msg = \"Your OTP = 5533 sent on nitish@g.com\"\n",
    "print( msg[ 11 : 15 :  ] )  #5533\n"
   ]
  },
  {
   "cell_type": "code",
   "execution_count": 46,
   "metadata": {},
   "outputs": [
    {
     "name": "stdout",
     "output_type": "stream",
     "text": [
      "IIHI\n"
     ]
    }
   ],
   "source": [
    "msg = \"NITISHVIG\"\n",
    "#        0123456789 10 11 12 13 14\n",
    "print( msg[ 1 : : 2 ] )  # IIHI\n"
   ]
  },
  {
   "cell_type": "code",
   "execution_count": 52,
   "metadata": {},
   "outputs": [
    {
     "name": "stdout",
     "output_type": "stream",
     "text": [
      "NITISHVIG\n",
      "GIVHSITIN\n",
      "GIVHSITIN\n"
     ]
    }
   ],
   "source": [
    "msg = \"NITISHVIG\"\n",
    "print( msg[  : :  ] )  \n",
    "print( msg[  : : -1 ] )  \n",
    "# print( msg[ -1 : -len(msg) - 1 : -1 ] )  \n",
    "\n"
   ]
  },
  {
   "cell_type": "code",
   "execution_count": 50,
   "metadata": {},
   "outputs": [
    {
     "name": "stdout",
     "output_type": "stream",
     "text": [
      "Not a Palidnrome \n"
     ]
    }
   ],
   "source": [
    "# Palindromes : \n",
    "# naman, 12321, malayalam ...\n",
    "\n",
    "# w = \"naman\"\n",
    "w = \"12558\"\n",
    "\n",
    "if w[ : : 1] == w[ : : -1] : \n",
    "    print(\"Its palindrome\")\n",
    "else : \n",
    "    print(\"Not a Palidnrome \")\n"
   ]
  },
  {
   "cell_type": "code",
   "execution_count": 55,
   "metadata": {},
   "outputs": [
    {
     "data": {
      "text/plain": [
       "'nohtyp'"
      ]
     },
     "execution_count": 55,
     "metadata": {},
     "output_type": "execute_result"
    }
   ],
   "source": [
    "a = 'python'\n",
    "a[ -1 : -(len(a) + 1) : -1]  # start with -1. End at -7"
   ]
  },
  {
   "cell_type": "code",
   "execution_count": null,
   "metadata": {},
   "outputs": [],
   "source": []
  },
  {
   "cell_type": "code",
   "execution_count": 57,
   "metadata": {},
   "outputs": [
    {
     "name": "stdout",
     "output_type": "stream",
     "text": [
      "hello world\n"
     ]
    }
   ],
   "source": [
    "# 4. Concatenate (+) : Merging 2 or more strings\n",
    "\n",
    "f = \"hello\"\n",
    "l = \"world\"\n",
    "print(f + \" \" + l)\n"
   ]
  },
  {
   "cell_type": "code",
   "execution_count": 58,
   "metadata": {},
   "outputs": [
    {
     "ename": "TypeError",
     "evalue": "can only concatenate str (not \"int\") to str",
     "output_type": "error",
     "traceback": [
      "\u001b[1;31m---------------------------------------------------------------------------\u001b[0m",
      "\u001b[1;31mTypeError\u001b[0m                                 Traceback (most recent call last)",
      "\u001b[1;32m<ipython-input-58-4b6497564d5c>\u001b[0m in \u001b[0;36m<module>\u001b[1;34m\u001b[0m\n\u001b[1;32m----> 1\u001b[1;33m \u001b[0mprint\u001b[0m\u001b[1;33m(\u001b[0m \u001b[0mf\u001b[0m \u001b[1;33m+\u001b[0m \u001b[1;34m\" \"\u001b[0m \u001b[1;33m+\u001b[0m \u001b[1;36m2022\u001b[0m \u001b[1;33m+\u001b[0m \u001b[1;34m\" \"\u001b[0m  \u001b[1;33m+\u001b[0m \u001b[0ml\u001b[0m\u001b[1;33m)\u001b[0m\u001b[1;33m\u001b[0m\u001b[1;33m\u001b[0m\u001b[0m\n\u001b[0m",
      "\u001b[1;31mTypeError\u001b[0m: can only concatenate str (not \"int\") to str"
     ]
    }
   ],
   "source": [
    "print( f + \" \" + 2022 + \" \"  + l)"
   ]
  },
  {
   "cell_type": "code",
   "execution_count": 59,
   "metadata": {},
   "outputs": [
    {
     "name": "stdout",
     "output_type": "stream",
     "text": [
      "hello 2022 world\n"
     ]
    }
   ],
   "source": [
    "print( f + \" \" + str(2022) + \" \"  + l)"
   ]
  },
  {
   "cell_type": "code",
   "execution_count": 61,
   "metadata": {},
   "outputs": [
    {
     "name": "stdout",
     "output_type": "stream",
     "text": [
      "pythonpythonpython\n",
      "pythonpython\n"
     ]
    }
   ],
   "source": [
    "# 5. repeat (*) : Repeat the string\n",
    "# stringName * number\n",
    "#  number * stringName\n",
    "\n",
    "a = \"python\"\n",
    "print(a * 3)\n",
    "print(2 * a)\n",
    "\n"
   ]
  },
  {
   "cell_type": "code",
   "execution_count": 63,
   "metadata": {},
   "outputs": [
    {
     "name": "stdout",
     "output_type": "stream",
     "text": [
      "ooo\n",
      "ooo\n"
     ]
    }
   ],
   "source": [
    "a = \"python\"\n",
    "\n",
    "# ooo\n",
    "print( a[-2] * 3 )\n",
    "print( a[4] * 3 )"
   ]
  },
  {
   "cell_type": "code",
   "execution_count": 65,
   "metadata": {
    "scrolled": true
   },
   "outputs": [
    {
     "name": "stdout",
     "output_type": "stream",
     "text": [
      "ptopto\n"
     ]
    }
   ],
   "source": [
    "# ptopto\n",
    "\n",
    "print( a[ : : 2]  * 2)"
   ]
  },
  {
   "cell_type": "code",
   "execution_count": 67,
   "metadata": {},
   "outputs": [
    {
     "name": "stdout",
     "output_type": "stream",
     "text": [
      "999\n"
     ]
    }
   ],
   "source": [
    "# 999\n",
    "\n",
    "print( \"9\" * 3 )"
   ]
  },
  {
   "cell_type": "code",
   "execution_count": 69,
   "metadata": {},
   "outputs": [
    {
     "name": "stdout",
     "output_type": "stream",
     "text": [
      "True\n",
      "False\n"
     ]
    }
   ],
   "source": [
    "# 6. Membership (in)\n",
    "# evaluate weather eleemnt is present inside Sequence\n",
    "\n",
    "print(\"S\" in \"Superstar\")\n",
    "print(\"T\" in \"Superstar\")\n"
   ]
  },
  {
   "cell_type": "code",
   "execution_count": null,
   "metadata": {},
   "outputs": [],
   "source": []
  },
  {
   "cell_type": "markdown",
   "metadata": {},
   "source": [
    "# String Methods"
   ]
  },
  {
   "cell_type": "code",
   "execution_count": null,
   "metadata": {},
   "outputs": [],
   "source": [
    "# Methods ~ Functions\n",
    "\n",
    "# Any Object Function\n",
    "# objectName.________"
   ]
  },
  {
   "cell_type": "code",
   "execution_count": null,
   "metadata": {},
   "outputs": [],
   "source": [
    "# m : markdown\n",
    "# y : code cell"
   ]
  },
  {
   "cell_type": "markdown",
   "metadata": {},
   "source": [
    "# 100%\n",
    "print( dir(str) )\n",
    "\n",
    "capitalize', 'casefold', 'center', 'count', 'encode', 'endswith', 'expandtabs', 'find', 'format', 'format_map', 'index', 'isalnum', 'isalpha', 'isascii', 'isdecimal', 'isdigit', 'isidentifier', 'islower', 'isnumeric', 'isprintable', 'isspace', 'istitle', 'isupper', 'join', 'ljust', 'lower', 'lstrip', 'maketrans', 'partition', 'replace', 'rfind', 'rindex', 'rjust', 'rpartition', 'rsplit', 'rstrip', 'split', 'splitlines', 'startswith', 'strip', 'swapcase', 'title', 'translate', 'upper', 'zfill'\n"
   ]
  },
  {
   "cell_type": "code",
   "execution_count": 75,
   "metadata": {},
   "outputs": [
    {
     "name": "stdout",
     "output_type": "stream",
     "text": [
      "['__add__', '__class__', '__contains__', '__delattr__', '__delitem__', '__dir__', '__doc__', '__eq__', '__format__', '__ge__', '__getattribute__', '__getitem__', '__gt__', '__hash__', '__iadd__', '__imul__', '__init__', '__init_subclass__', '__iter__', '__le__', '__len__', '__lt__', '__mul__', '__ne__', '__new__', '__reduce__', '__reduce_ex__', '__repr__', '__reversed__', '__rmul__', '__setattr__', '__setitem__', '__sizeof__', '__str__', '__subclasshook__', 'append', 'clear', 'copy', 'count', 'extend', 'index', 'insert', 'pop', 'remove', 'reverse', 'sort']\n"
     ]
    }
   ],
   "source": [
    "print(dir(list))"
   ]
  },
  {
   "cell_type": "code",
   "execution_count": 76,
   "metadata": {},
   "outputs": [],
   "source": [
    "import math"
   ]
  },
  {
   "cell_type": "markdown",
   "metadata": {},
   "source": [
    "print( dir(math) )\n",
    "\n",
    " 'acos', 'acosh', 'asin', 'asinh', 'atan', 'atan2', 'atanh', 'ceil', 'comb', 'copysign', 'cos', 'cosh', 'degrees', 'dist', 'e', 'erf', 'erfc', 'exp', 'expm1', 'fabs', 'factorial', 'floor', 'fmod', 'frexp', 'fsum', 'gamma', 'gcd', 'hypot', 'inf', 'isclose', 'isfinite', 'isinf', 'isnan', 'isqrt', 'ldexp', 'lgamma', 'log', 'log10', 'log1p', 'log2', 'modf', 'nan', 'perm', 'pi', 'pow', 'prod', 'radians', 'remainder', 'sin', 'sinh', 'sqrt', 'tan', 'tanh', 'tau', 'trunc'"
   ]
  },
  {
   "cell_type": "code",
   "execution_count": null,
   "metadata": {},
   "outputs": [],
   "source": []
  },
  {
   "cell_type": "code",
   "execution_count": null,
   "metadata": {},
   "outputs": [],
   "source": []
  },
  {
   "cell_type": "code",
   "execution_count": null,
   "metadata": {},
   "outputs": [],
   "source": []
  },
  {
   "cell_type": "code",
   "execution_count": 84,
   "metadata": {},
   "outputs": [
    {
     "name": "stdout",
     "output_type": "stream",
     "text": [
      "python programming\n",
      "PYTHON PROGRAMMING\n",
      "PYthON pROGRAMminG\n",
      "Python Programming\n",
      "Python programming\n",
      "python programming\n"
     ]
    }
   ],
   "source": [
    "# 1. Changing the Cases \n",
    "\n",
    "s = \"pyTHon ProgramMINg\"\n",
    "\n",
    "print( s.lower() )\n",
    "print( s.upper() )\n",
    "print( s.swapcase() )\n",
    "print( s.title() ) # First char of Word is uppercase, rest all are Lowercase\n",
    "print( s.capitalize() ) # First char of STRING is uppercase, rest all are Lowercase\n",
    "\n",
    "# s = s.lower()\n",
    "print(s)\n"
   ]
  },
  {
   "cell_type": "code",
   "execution_count": 86,
   "metadata": {},
   "outputs": [
    {
     "name": "stdout",
     "output_type": "stream",
     "text": [
      "    pyTHon    \n",
      "14\n",
      "6\n",
      "pyTHon\n"
     ]
    }
   ],
   "source": [
    "# 2. Removing Blank spaces from the string : \n",
    "# stringName.strip()\n",
    "\n",
    "s = \"    pyTHon    \"\n",
    "\n",
    "print(s)\n",
    "print(len(s))\n",
    "\n",
    "s = s.strip()\n",
    "\n",
    "print(len(s))\n",
    "print(s)\n",
    "\n"
   ]
  },
  {
   "cell_type": "code",
   "execution_count": null,
   "metadata": {},
   "outputs": [],
   "source": []
  },
  {
   "cell_type": "code",
   "execution_count": 90,
   "metadata": {},
   "outputs": [
    {
     "name": "stdout",
     "output_type": "stream",
     "text": [
      "Mention your city :     PUne              \n",
      "South\n"
     ]
    }
   ],
   "source": [
    "place = input(\"Mention your city : \")\n",
    "place = place.lower()\n",
    "place = place.strip()\n",
    "\n",
    "\n",
    "if place == 'delhi' : \n",
    "    print(\"North\")\n",
    "elif place == 'pune' : \n",
    "    print(\"South\")\n",
    "elif place == 'kolkata' : \n",
    "    print(\"west\")\n",
    "else : \n",
    "    print(\"east\")\n",
    "    "
   ]
  },
  {
   "cell_type": "code",
   "execution_count": null,
   "metadata": {},
   "outputs": [],
   "source": [
    "num = int( input(\"Number : \") )\n",
    "\n",
    "print(type(num))\n"
   ]
  },
  {
   "cell_type": "code",
   "execution_count": null,
   "metadata": {},
   "outputs": [],
   "source": [
    "\n"
   ]
  },
  {
   "cell_type": "code",
   "execution_count": null,
   "metadata": {},
   "outputs": [],
   "source": []
  },
  {
   "cell_type": "code",
   "execution_count": null,
   "metadata": {},
   "outputs": [],
   "source": []
  },
  {
   "cell_type": "code",
   "execution_count": null,
   "metadata": {},
   "outputs": [],
   "source": []
  },
  {
   "cell_type": "code",
   "execution_count": null,
   "metadata": {},
   "outputs": [],
   "source": []
  },
  {
   "cell_type": "code",
   "execution_count": null,
   "metadata": {},
   "outputs": [],
   "source": []
  },
  {
   "cell_type": "code",
   "execution_count": null,
   "metadata": {},
   "outputs": [],
   "source": [
    "print( 10 and 20 and 30 and 4 )"
   ]
  },
  {
   "cell_type": "code",
   "execution_count": null,
   "metadata": {},
   "outputs": [],
   "source": []
  },
  {
   "cell_type": "code",
   "execution_count": null,
   "metadata": {},
   "outputs": [],
   "source": []
  },
  {
   "cell_type": "code",
   "execution_count": null,
   "metadata": {},
   "outputs": [],
   "source": []
  },
  {
   "cell_type": "code",
   "execution_count": null,
   "metadata": {},
   "outputs": [],
   "source": []
  },
  {
   "cell_type": "code",
   "execution_count": null,
   "metadata": {},
   "outputs": [],
   "source": []
  },
  {
   "cell_type": "code",
   "execution_count": null,
   "metadata": {},
   "outputs": [],
   "source": []
  },
  {
   "cell_type": "code",
   "execution_count": null,
   "metadata": {},
   "outputs": [],
   "source": []
  },
  {
   "cell_type": "code",
   "execution_count": null,
   "metadata": {},
   "outputs": [],
   "source": []
  },
  {
   "cell_type": "code",
   "execution_count": null,
   "metadata": {},
   "outputs": [],
   "source": []
  },
  {
   "cell_type": "code",
   "execution_count": null,
   "metadata": {},
   "outputs": [],
   "source": []
  },
  {
   "cell_type": "code",
   "execution_count": 3,
   "metadata": {},
   "outputs": [
    {
     "name": "stdout",
     "output_type": "stream",
     "text": [
      "False\n"
     ]
    }
   ],
   "source": [
    "print( (10 > 25) and (25 < 35) )  # False and False"
   ]
  },
  {
   "cell_type": "code",
   "execution_count": 5,
   "metadata": {},
   "outputs": [
    {
     "name": "stdout",
     "output_type": "stream",
     "text": [
      "False\n"
     ]
    }
   ],
   "source": [
    "print( (10 > 25) and ( (25 < 35) or ( 14 > 10 ) )  )  # False and ( True or True )"
   ]
  },
  {
   "cell_type": "code",
   "execution_count": 6,
   "metadata": {},
   "outputs": [
    {
     "name": "stdout",
     "output_type": "stream",
     "text": [
      "True\n"
     ]
    }
   ],
   "source": [
    "print( ( (10 > 25) and (25 < 35) ) or ( 14 > 10 )  )  # ( False and True ) or True"
   ]
  },
  {
   "cell_type": "code",
   "execution_count": null,
   "metadata": {},
   "outputs": [],
   "source": []
  },
  {
   "cell_type": "code",
   "execution_count": 1,
   "metadata": {},
   "outputs": [
    {
     "name": "stdout",
     "output_type": "stream",
     "text": [
      "Object `today` not found.\n"
     ]
    }
   ],
   "source": [
    "Please let me know what to do today?"
   ]
  },
  {
   "cell_type": "code",
   "execution_count": null,
   "metadata": {},
   "outputs": [],
   "source": [
    "Please let me know what to do today"
   ]
  },
  {
   "cell_type": "code",
   "execution_count": 2,
   "metadata": {},
   "outputs": [],
   "source": [
    "wait for 10 min?"
   ]
  },
  {
   "cell_type": "code",
   "execution_count": null,
   "metadata": {},
   "outputs": [],
   "source": [
    "wait for 10 min"
   ]
  },
  {
   "cell_type": "code",
   "execution_count": null,
   "metadata": {},
   "outputs": [],
   "source": [
    "or tomorrow ???"
   ]
  },
  {
   "cell_type": "code",
   "execution_count": 4,
   "metadata": {},
   "outputs": [
    {
     "ename": "SyntaxError",
     "evalue": "invalid syntax (<ipython-input-4-cdc9fe063c51>, line 1)",
     "output_type": "error",
     "traceback": [
      "\u001b[1;36m  File \u001b[1;32m\"<ipython-input-4-cdc9fe063c51>\"\u001b[1;36m, line \u001b[1;32m1\u001b[0m\n\u001b[1;33m    please write in chat. i am speaking over here...\u001b[0m\n\u001b[1;37m           ^\u001b[0m\n\u001b[1;31mSyntaxError\u001b[0m\u001b[1;31m:\u001b[0m invalid syntax\n"
     ]
    }
   ],
   "source": [
    "please write in chat. i am speaking over here...\n",
    "\n",
    "NOT using Earphones .\n",
    "\n"
   ]
  },
  {
   "cell_type": "code",
   "execution_count": null,
   "metadata": {},
   "outputs": [],
   "source": []
  },
  {
   "cell_type": "markdown",
   "metadata": {},
   "source": [
    "# Lets Join by  8.20 PM.\n",
    "# Let me check"
   ]
  },
  {
   "cell_type": "code",
   "execution_count": null,
   "metadata": {},
   "outputs": [],
   "source": []
  },
  {
   "cell_type": "code",
   "execution_count": null,
   "metadata": {},
   "outputs": [],
   "source": []
  },
  {
   "cell_type": "code",
   "execution_count": null,
   "metadata": {},
   "outputs": [],
   "source": []
  },
  {
   "cell_type": "code",
   "execution_count": null,
   "metadata": {},
   "outputs": [],
   "source": []
  },
  {
   "cell_type": "code",
   "execution_count": null,
   "metadata": {},
   "outputs": [],
   "source": []
  }
 ],
 "metadata": {
  "kernelspec": {
   "display_name": "Python 3 (ipykernel)",
   "language": "python",
   "name": "python3"
  },
  "language_info": {
   "codemirror_mode": {
    "name": "ipython",
    "version": 3
   },
   "file_extension": ".py",
   "mimetype": "text/x-python",
   "name": "python",
   "nbconvert_exporter": "python",
   "pygments_lexer": "ipython3",
   "version": "3.9.13"
  }
 },
 "nbformat": 4,
 "nbformat_minor": 4
}
