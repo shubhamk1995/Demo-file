{
 "cells": [
  {
   "cell_type": "code",
   "execution_count": 1,
   "id": "9d720286",
   "metadata": {},
   "outputs": [
    {
     "name": "stdout",
     "output_type": "stream",
     "text": [
      "16\n",
      "SHUBHAM\n"
     ]
    }
   ],
   "source": [
    "print(10+6)\n",
    "\n",
    "print(\"shubham\".upper())"
   ]
  },
  {
   "cell_type": "markdown",
   "id": "eaf2751f",
   "metadata": {},
   "source": [
    "Q.Write a programfor even and odd\n",
    "\n",
    "https://www.anaconda.com/\n",
    "\n",
    "# Headings\n",
    "## Headings\n",
    "### Headings\n",
    "\n",
    "This is **bold** character and ** _Italic_**  Format\n",
    "\n",
    "\n"
   ]
  },
  {
   "cell_type": "code",
   "execution_count": null,
   "id": "dad6284a",
   "metadata": {},
   "outputs": [],
   "source": []
  },
  {
   "cell_type": "code",
   "execution_count": null,
   "id": "a6c30ff0",
   "metadata": {},
   "outputs": [],
   "source": []
  },
  {
   "cell_type": "code",
   "execution_count": 3,
   "id": "57ed0081",
   "metadata": {},
   "outputs": [
    {
     "name": "stdout",
     "output_type": "stream",
     "text": [
      "1.0\n"
     ]
    }
   ],
   "source": [
    "print(23/23)"
   ]
  },
  {
   "cell_type": "code",
   "execution_count": null,
   "id": "eb5052f1",
   "metadata": {},
   "outputs": [],
   "source": []
  },
  {
   "cell_type": "code",
   "execution_count": null,
   "id": "b5e47acc",
   "metadata": {},
   "outputs": [],
   "source": []
  },
  {
   "cell_type": "code",
   "execution_count": null,
   "id": "daeea4a7",
   "metadata": {},
   "outputs": [],
   "source": []
  },
  {
   "cell_type": "markdown",
   "id": "5d526c99",
   "metadata": {},
   "source": [
    "Q.Write a programfor even and odd\n",
    "\n",
    "https://www.anaconda.com/\n",
    "\n",
    "# Headings\n",
    "## Headings\n",
    "### Headings\n",
    "\n",
    "This is **bold** character and ** _Italic_**  Format\n",
    "\n",
    "\n"
   ]
  },
  {
   "cell_type": "code",
   "execution_count": null,
   "id": "44b182cb",
   "metadata": {},
   "outputs": [],
   "source": []
  }
 ],
 "metadata": {
  "kernelspec": {
   "display_name": "Python 3 (ipykernel)",
   "language": "python",
   "name": "python3"
  },
  "language_info": {
   "codemirror_mode": {
    "name": "ipython",
    "version": 3
   },
   "file_extension": ".py",
   "mimetype": "text/x-python",
   "name": "python",
   "nbconvert_exporter": "python",
   "pygments_lexer": "ipython3",
   "version": "3.9.13"
  }
 },
 "nbformat": 4,
 "nbformat_minor": 5
}
